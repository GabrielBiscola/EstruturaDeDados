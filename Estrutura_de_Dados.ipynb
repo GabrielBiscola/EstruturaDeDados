{
  "cells": [
    {
      "cell_type": "code",
      "execution_count": null,
      "id": "5f19745b",
      "metadata": {
        "id": "5f19745b"
      },
      "outputs": [],
      "source": [
        "import queue\n",
        "import random"
      ]
    },
    {
      "cell_type": "markdown",
      "source": [
        "1. Refaça o problema \"Verificação de Expressão Matemática\" mas agora com o uso da classe queue"
      ],
      "metadata": {
        "id": "v3MNoAucoPVd"
      },
      "id": "v3MNoAucoPVd"
    },
    {
      "cell_type": "code",
      "execution_count": null,
      "id": "19e1a06d",
      "metadata": {
        "id": "19e1a06d"
      },
      "outputs": [],
      "source": [
        "def verifica_balanceamento (expressao):\n",
        "  pilha = queue.Queue()\n",
        "  for c in expressao:\n",
        "    if c == '(':\n",
        "      pilha.put(c)\n",
        "    elif c == ')':\n",
        "      if pilha.qsize() == 0 or pilha.get() != '(':\n",
        "        return False\n",
        "  return pilha.qsize() == 0\n",
        "print(verifica_balanceamento (\"1\"))\n",
        "print(verifica_balanceamento (\"((2 + 3) * 5)\"))\n",
        "print(verifica_balanceamento (\"(2 + 3) * 5)\"))"
      ]
    },
    {
      "cell_type": "markdown",
      "source": [
        "2. Refaça o problema \"Simulação de Fila de Impressão\" mas agora com o uso da classe queue."
      ],
      "metadata": {
        "id": "MirdOWiIoUGr"
      },
      "id": "MirdOWiIoUGr"
    },
    {
      "cell_type": "code",
      "execution_count": null,
      "id": "a8e675b6",
      "metadata": {
        "id": "a8e675b6"
      },
      "outputs": [],
      "source": [
        "def simular_impressao (numero_documentos, tempo_medio_impressao):\n",
        "  fila_impressao = queue.Queue()\n",
        "  tempo_espera_total = 0\n",
        "  for documento in range(1, numero_documentos + 1):\n",
        "    tempo_impressao = random.expovariate (1 / tempo_medio_impressao)\n",
        "    fila_impressao.put((documento, tempo_impressao))\n",
        "    print(f\"Documento {documento}: Tempo de impressão estimado - \"\n",
        "    f\"{tempo_impressao:.2f} minutos.\")\n",
        "  while not fila_impressao.empty():\n",
        "    documento_atual, tempo_impressao_atual = fila_impressao.get()\n",
        "    print(f\"\\nImprimindo Documento {documento_atual}...\")\n",
        "    tempo_espera_total += tempo_impressao_atual\n",
        "    tempo_medio_espera = (tempo_espera_total / numero_documentos\n",
        "                          if numero_documentos > 0 else 0)\n",
        "  print(f\"\\nTempo total de espera dos documentos na fila: \" f\"{tempo_espera_total:.2f} minutos\")\n",
        "  print(f\"Tempo médio de espera de cada documento: \" f\"{tempo_medio_espera:.2f} minutos\")\n",
        "\n",
        "random.seed (27)\n",
        "numero_documentos = 10\n",
        "tempo_medio_impressao = 5\n",
        "simular_impressao (numero_documentos, tempo_medio_impressao)"
      ]
    },
    {
      "cell_type": "markdown",
      "source": [
        "3. Implemente uma função para reverter uma string usando uma pilha."
      ],
      "metadata": {
        "id": "vUl8DnG3obT1"
      },
      "id": "vUl8DnG3obT1"
    },
    {
      "cell_type": "code",
      "execution_count": null,
      "id": "cce60674",
      "metadata": {
        "lines_to_next_cell": 1,
        "id": "cce60674"
      },
      "outputs": [],
      "source": [
        "def inverte(string):\n",
        "    pilha = queue.LifoQueue()\n",
        "    inverte = \"\"\n",
        "\n",
        "    for caracter in string:\n",
        "        pilha.put(caracter)\n",
        "\n",
        "    while not pilha:\n",
        "        inverte += pilha.get()\n",
        "\n",
        "    return inverte"
      ]
    },
    {
      "cell_type": "code",
      "execution_count": null,
      "id": "db072210",
      "metadata": {
        "id": "db072210"
      },
      "outputs": [],
      "source": [
        "string = input(\"Digite seu nome \")\n",
        "inverte = inverte(string)\n",
        "print(\"String original:\", string)\n",
        "print(\"String invertida:\", inverte)"
      ]
    },
    {
      "cell_type": "markdown",
      "source": [
        "4. A fila de prioridade (priority queue) pode ser usada facilmente para ordenar uma sequência qualquer de números. Como você faria isso? Analise as propriedades dessa estrutura de dados e implemente uma função que recebe uma lista de números e retorna essa lista ordenada via a ação de uma fila de prioridade."
      ],
      "metadata": {
        "id": "W8-vKq6bojZ4"
      },
      "id": "W8-vKq6bojZ4"
    },
    {
      "cell_type": "code",
      "execution_count": null,
      "id": "c2684727",
      "metadata": {
        "lines_to_next_cell": 1,
        "id": "c2684727"
      },
      "outputs": [],
      "source": [
        "import heapq"
      ]
    },
    {
      "cell_type": "code",
      "execution_count": null,
      "id": "9a02eb7e",
      "metadata": {
        "lines_to_next_cell": 1,
        "id": "9a02eb7e"
      },
      "outputs": [],
      "source": [
        "def ordenar_com_fila_de_prioridade(nums):\n",
        "\n",
        "    heapq.heapify(nums)\n",
        "\n",
        "    sorted_nums = []\n",
        "    while nums:\n",
        "        sorted_nums.append(heapq.heappop(nums))\n",
        "\n",
        "    return sorted_nums\n",
        "entrada = [7, -1, 5, 2, 14, -13]\n",
        "saida = ordenar_com_fila_de_prioridade(entrada)\n",
        "print(saida)"
      ]
    },
    {
      "cell_type": "markdown",
      "source": [
        "5. Avaliação de Expressões Pós-fixa (ou Notação Polonesa Reversa)\n",
        "Descrição: crie um programa Python que avalie uma expressão matemática na forma pós-fixa (ou notação polonesa reversa) usando uma pilha. A expressão pós-fixa é uma notação onde os operadores seguem seus operandos e dispensa parênteses.\n",
        "Entrada: \"2 3 + 5 *\"\n",
        "Resultado: 25 (resultado da expressão)\n",
        "Entrada: \" 7 4 – 3 * 16 2 / -\"\n",
        "Resultado: 1 (resultado da expressão)\n",
        "Dica de Implementação:\n",
        "1. Divida a expressão em tokens separados por espaços.\n",
        "2. Percorra os tokens da expressão.\n",
        "3. Se encontrar um operando (número), empilhe-o.\n",
        "4. Se encontrar um operador, desempilhe dois operandos, aplique o operador e empilhe o resultado.\n",
        "5. No final, o resultado estará no topo da pilha.\n"
      ],
      "metadata": {
        "id": "dCU1BZG1ooRL"
      },
      "id": "dCU1BZG1ooRL"
    },
    {
      "cell_type": "code",
      "execution_count": null,
      "id": "a47c7de7",
      "metadata": {
        "lines_to_next_cell": 1,
        "id": "a47c7de7"
      },
      "outputs": [],
      "source": [
        "op = {\"+\": lambda op1, op2: op1 + op2,\n",
        "      \"-\": lambda op1, op2: op1 - op2,\n",
        "      \"*\": lambda op1, op2: op1 * op2,\n",
        "      \"/\": lambda op1, op2: op1 / op2}"
      ]
    },
    {
      "cell_type": "code",
      "execution_count": null,
      "id": "04b5ce28",
      "metadata": {
        "lines_to_next_cell": 1,
        "id": "04b5ce28"
      },
      "outputs": [],
      "source": [
        "def avalia(expr):\n",
        "  pilha = queue.LifoQueue()\n",
        "  tokens = expr.split()\n",
        "\n",
        "  for tk in tokens:\n",
        "    if tk.isdigit():\n",
        "      pilha.put(float(tk))\n",
        "    elif tk in op:\n",
        "      op2 = pilha.get()\n",
        "      op1 = pilha.get()\n",
        "      res = op[tk](op1, op2)\n",
        "      pilha.put(res)\n",
        "  return pilha.get()\n",
        "\n",
        "avalia(\"7 4 - 3 * 16 2 / -\")"
      ]
    },
    {
      "cell_type": "markdown",
      "source": [
        "6. Cálculo de média móvel (como eram construídos os gráficos na pandemia) Escreva uma função que recebe uma lista de números e um tamanho de janela como entrada. A função deve calcular a média móvel dos números em cada janela deslizante usando uma fila."
      ],
      "metadata": {
        "id": "f9eamQMBptlF"
      },
      "id": "f9eamQMBptlF"
    },
    {
      "cell_type": "code",
      "execution_count": null,
      "id": "d6059876",
      "metadata": {
        "lines_to_next_cell": 1,
        "id": "d6059876"
      },
      "outputs": [],
      "source": [
        "valores = [3, 5, 7, 10, 6, 4, 5, 8]\n",
        "jan = 3"
      ]
    },
    {
      "cell_type": "code",
      "execution_count": null,
      "id": "ebff052c",
      "metadata": {
        "lines_to_next_cell": 1,
        "id": "ebff052c"
      },
      "outputs": [],
      "source": [
        "def mm(seq, jan):\n",
        "  fila = queue.Queue()\n",
        "  soma = 0\n",
        "  mmov = []\n",
        "\n",
        "  for i, n in enumerate(seq):\n",
        "    fila.put(n)\n",
        "    soma += n\n",
        "    if i >= jan - 1:\n",
        "      mmov.append(soma/jan)\n",
        "      soma -= fila.get()\n",
        "  return mmov"
      ]
    },
    {
      "cell_type": "code",
      "execution_count": null,
      "id": "4601f6a7",
      "metadata": {
        "id": "4601f6a7"
      },
      "outputs": [],
      "source": [
        "mm(valores, jan)"
      ]
    },
    {
      "cell_type": "markdown",
      "source": [
        "7. Seja push(n) a operação de inserir elemento n e pop() a operação de extrair um elemento da estrutura de dados. A seguinte sequência de 10 operações foi executada.\n",
        "\n",
        "a. apresente a configuração final em cada estrutura de dados abaixo.\n",
        "\n",
        "b. após a décima operação, caso se efetue sequência de pop()'s até esvaziar a estrutura, qual seria a sequência de elementos produzida em cada um dos 2 caso."
      ],
      "metadata": {
        "id": "C-o1pcucqZJM"
      },
      "id": "C-o1pcucqZJM"
    },
    {
      "cell_type": "code",
      "execution_count": null,
      "id": "34bef332",
      "metadata": {
        "id": "34bef332"
      },
      "outputs": [],
      "source": [
        "print(\"Pilha = [4, 5]\")\n",
        "print(\"Fila = [4, 3]\")"
      ]
    },
    {
      "cell_type": "markdown",
      "source": [
        "8. Busca por elemento alvo em matriz com uso de fila e set\n",
        "Desenvolva uma função que localiza um dado elemento alvo em uma matriz a partir de uma posição inicial qualquer para início da busca.\n",
        "Durante a busca, verificamos se o valor atual na posição visitada da matriz é igual ao alvo. Se for, imprimimos a posição e encerramos a busca (mesmo que haja outras ocorrências do alvo na matriz*). Caso contrário, continuamos a busca até visitar todas as posições da matriz.\n",
        "\n",
        "  A solução deste exercício é dada para servir de material de estudo para o entendimento de algumas técnicas úteis usadas no desenvolvimento de algoritmos.\n",
        "\n",
        "  Implemente e teste o algoritmo e teste-o para diversas matrizes de entrada, diferentes pontos de início, com e sem o elemento alvo presente na matriz.\n",
        "Comente o código para demosntrar que compreendeu o algoritmo.\n",
        "\n",
        "  A solução é apresentada na próxima página.\n",
        "Como o algoritmo deve ser alterado para apresentar todas as ocorrências do alvo?\n"
      ],
      "metadata": {
        "id": "Gw28YWEhqhDZ"
      },
      "id": "Gw28YWEhqhDZ"
    },
    {
      "cell_type": "code",
      "execution_count": null,
      "id": "6c1700d7",
      "metadata": {
        "lines_to_next_cell": 1,
        "id": "6c1700d7"
      },
      "outputs": [],
      "source": [
        "def busca_matriz (matriz, inicio, alvo):\n",
        "  linhas, colunas = len(matriz), len (matriz[0])\n",
        "  visitados = set()\n",
        "  fila = queue.Queue()\n",
        "  fila.put(inicio)\n",
        "  while not fila.empty():\n",
        "    x, y = fila.get()\n",
        "    if (x, y) not in visitados:\n",
        "      visitados.add((x, y))\n",
        "      valor_atual = matriz [x][y]\n",
        "      print (f\"Visitando posição ({x}, {y}): {valor_atual}\")\n",
        "      if valor_atual == alvo:\n",
        "        print (f\"Encontramos o alvo {alvo} na posição ({x}, {y})\")\n",
        "      return True\n",
        "\n",
        "      for dx, dy in [(1, 0), (1, 0), (0, 1), (0, -1)]:\n",
        "        nx, ny = x + dx, y + dy\n",
        "        if (0 <= nx < linhas and 0 <= ny < colunas and\n",
        "         (nx, ny) not in visitados):\n",
        "          fila.put((nx, ny))\n",
        "        print (f\"0 alvo {alvo} não foi encontrado na matriz.\")\n",
        "  return False"
      ]
    },
    {
      "cell_type": "code",
      "execution_count": null,
      "id": "cdcef99e",
      "metadata": {
        "id": "cdcef99e"
      },
      "outputs": [],
      "source": [
        "matriz = [[1, 2, 3], [4, 5, 6], [7, 8, 9]]\n",
        "alvo = 5\n",
        "busca_matriz (matriz, (0, 0), alvo)"
      ]
    }
  ],
  "metadata": {
    "jupytext": {
      "cell_metadata_filter": "-all",
      "encoding": "# -*- coding: utf-8 -*-",
      "main_language": "python",
      "notebook_metadata_filter": "-all"
    },
    "colab": {
      "provenance": []
    }
  },
  "nbformat": 4,
  "nbformat_minor": 5
}